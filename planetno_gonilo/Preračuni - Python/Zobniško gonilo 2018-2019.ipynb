{
 "cells": [
  {
   "cell_type": "markdown",
   "metadata": {
    "toc": true
   },
   "source": [
    "<h1>Kazalo<span class=\"tocSkip\"></span></h1>\n",
    "<div class=\"toc\"><ul class=\"toc-item\"><li><span><a href=\"#Definicija-naloge\" data-toc-modified-id=\"Definicija-naloge-1\"><span class=\"toc-item-num\">1&nbsp;&nbsp;</span>Definicija naloge</a></span></li><li><span><a href=\"#Prva-faza\" data-toc-modified-id=\"Prva-faza-2\"><span class=\"toc-item-num\">2&nbsp;&nbsp;</span>Prva faza</a></span><ul class=\"toc-item\"><li><span><a href=\"#Osnovni-parametri-gonila\" data-toc-modified-id=\"Osnovni-parametri-gonila-2.1\"><span class=\"toc-item-num\">2.1&nbsp;&nbsp;</span>Osnovni parametri gonila</a></span><ul class=\"toc-item\"><li><span><a href=\"#Določite-prestavna-razmerja\" data-toc-modified-id=\"Določite-prestavna-razmerja-2.1.1\"><span class=\"toc-item-num\">2.1.1&nbsp;&nbsp;</span>Določite prestavna razmerja</a></span></li><li><span><a href=\"#dejanske-vrtilne-frekvence-gredi\" data-toc-modified-id=\"dejanske-vrtilne-frekvence-gredi-2.1.2\"><span class=\"toc-item-num\">2.1.2&nbsp;&nbsp;</span>dejanske vrtilne frekvence gredi</a></span></li><li><span><a href=\"#Vrtilni-momenti-na-posameznih-gredeh\" data-toc-modified-id=\"Vrtilni-momenti-na-posameznih-gredeh-2.1.3\"><span class=\"toc-item-num\">2.1.3&nbsp;&nbsp;</span>Vrtilni momenti na posameznih gredeh</a></span></li><li><span><a href=\"#Dejanski-moči-na-agregatu-in-delovnem-stroju\" data-toc-modified-id=\"Dejanski-moči-na-agregatu-in-delovnem-stroju-2.1.4\"><span class=\"toc-item-num\">2.1.4&nbsp;&nbsp;</span>Dejanski moči na agregatu in delovnem stroju</a></span></li></ul></li><li><span><a href=\"#Ocena-premerov-gredi\" data-toc-modified-id=\"Ocena-premerov-gredi-2.2\"><span class=\"toc-item-num\">2.2&nbsp;&nbsp;</span>Ocena premerov gredi</a></span></li><li><span><a href=\"#Dimenzije-zobnikov-in-medosni-razmiki\" data-toc-modified-id=\"Dimenzije-zobnikov-in-medosni-razmiki-2.3\"><span class=\"toc-item-num\">2.3&nbsp;&nbsp;</span>Dimenzije zobnikov in medosni razmiki</a></span><ul class=\"toc-item\"><li><span><a href=\"#Število-zob-zobnikov\" data-toc-modified-id=\"Število-zob-zobnikov-2.3.1\"><span class=\"toc-item-num\">2.3.1&nbsp;&nbsp;</span>Število zob zobnikov</a></span></li><li><span><a href=\"#Modul\" data-toc-modified-id=\"Modul-2.3.2\"><span class=\"toc-item-num\">2.3.2&nbsp;&nbsp;</span>Modul</a></span></li><li><span><a href=\"#Medosna-razdalja-nekorigiranega-zobnika\" data-toc-modified-id=\"Medosna-razdalja-nekorigiranega-zobnika-2.3.3\"><span class=\"toc-item-num\">2.3.3&nbsp;&nbsp;</span>Medosna razdalja nekorigiranega zobnika</a></span></li><li><span><a href=\"#Širina-in-višina-zobnika\" data-toc-modified-id=\"Širina-in-višina-zobnika-2.3.4\"><span class=\"toc-item-num\">2.3.4&nbsp;&nbsp;</span>Širina in višina zobnika</a></span></li><li><span><a href=\"#profilni-premik\" data-toc-modified-id=\"profilni-premik-2.3.5\"><span class=\"toc-item-num\">2.3.5&nbsp;&nbsp;</span>profilni premik</a></span></li><li><span><a href=\"#Premeri-zobnikov\" data-toc-modified-id=\"Premeri-zobnikov-2.3.6\"><span class=\"toc-item-num\">2.3.6&nbsp;&nbsp;</span>Premeri zobnikov</a></span></li><li><span><a href=\"#Konstrukcijska-izvedba-pastorka\" data-toc-modified-id=\"Konstrukcijska-izvedba-pastorka-2.3.7\"><span class=\"toc-item-num\">2.3.7&nbsp;&nbsp;</span>Konstrukcijska izvedba pastorka</a></span></li></ul></li><li><span><a href=\"#ležaji\" data-toc-modified-id=\"ležaji-2.4\"><span class=\"toc-item-num\">2.4&nbsp;&nbsp;</span>ležaji</a></span></li><li><span><a href=\"#Obremenitve-gredi-in-ležajev\" data-toc-modified-id=\"Obremenitve-gredi-in-ležajev-2.5\"><span class=\"toc-item-num\">2.5&nbsp;&nbsp;</span>Obremenitve gredi in ležajev</a></span><ul class=\"toc-item\"><li><span><a href=\"#Sile-na-zobnikih\" data-toc-modified-id=\"Sile-na-zobnikih-2.5.1\"><span class=\"toc-item-num\">2.5.1&nbsp;&nbsp;</span>Sile na zobnikih</a></span></li><li><span><a href=\"#Med-zobnikom-1-in-2\" data-toc-modified-id=\"Med-zobnikom-1-in-2-2.5.2\"><span class=\"toc-item-num\">2.5.2&nbsp;&nbsp;</span>Med zobnikom 1 in 2</a></span></li><li><span><a href=\"#Med-zobnikom-3-in-4\" data-toc-modified-id=\"Med-zobnikom-3-in-4-2.5.3\"><span class=\"toc-item-num\">2.5.3&nbsp;&nbsp;</span>Med zobnikom 3 in 4</a></span></li><li><span><a href=\"#Obremenitev-gredi-in-ležajev-(gred-2)\" data-toc-modified-id=\"Obremenitev-gredi-in-ležajev-(gred-2)-2.5.4\"><span class=\"toc-item-num\">2.5.4&nbsp;&nbsp;</span>Obremenitev gredi in ležajev (gred 2)</a></span></li></ul></li></ul></li><li><span><a href=\"#Druga-faza\" data-toc-modified-id=\"Druga-faza-3\"><span class=\"toc-item-num\">3&nbsp;&nbsp;</span>Druga faza</a></span><ul class=\"toc-item\"><li><span><a href=\"#Izračunajte-dobo-trajanja-ležajev\" data-toc-modified-id=\"Izračunajte-dobo-trajanja-ležajev-3.1\"><span class=\"toc-item-num\">3.1&nbsp;&nbsp;</span>Izračunajte dobo trajanja ležajev</a></span><ul class=\"toc-item\"><li><span><a href=\"#Vrednotenje-na-statično-nosilnost\" data-toc-modified-id=\"Vrednotenje-na-statično-nosilnost-3.1.1\"><span class=\"toc-item-num\">3.1.1&nbsp;&nbsp;</span>Vrednotenje na statično nosilnost</a></span></li><li><span><a href=\"#Vrednotenje-na-dinamično-nosilnost\" data-toc-modified-id=\"Vrednotenje-na-dinamično-nosilnost-3.1.2\"><span class=\"toc-item-num\">3.1.2&nbsp;&nbsp;</span>Vrednotenje na dinamično nosilnost</a></span></li></ul></li><li><span><a href=\"#Kontrola-gredi\" data-toc-modified-id=\"Kontrola-gredi-3.2\"><span class=\"toc-item-num\">3.2&nbsp;&nbsp;</span>Kontrola gredi</a></span><ul class=\"toc-item\"><li><span><a href=\"#Kontrola-napetosti-v-kritičnih-prerezih\" data-toc-modified-id=\"Kontrola-napetosti-v-kritičnih-prerezih-3.2.1\"><span class=\"toc-item-num\">3.2.1&nbsp;&nbsp;</span>Kontrola napetosti v kritičnih prerezih</a></span></li></ul></li><li><span><a href=\"#Kontrola-povesa\" data-toc-modified-id=\"Kontrola-povesa-3.3\"><span class=\"toc-item-num\">3.3&nbsp;&nbsp;</span>Kontrola povesa</a></span><ul class=\"toc-item\"><li><span><a href=\"#Statika-gredi-3\" data-toc-modified-id=\"Statika-gredi-3-3.3.1\"><span class=\"toc-item-num\">3.3.1&nbsp;&nbsp;</span>Statika gredi 3</a></span></li></ul></li></ul></li></ul></div>"
   ]
  },
  {
   "cell_type": "markdown",
   "metadata": {},
   "source": [
    "# Definicija naloge #\n",
    "\n",
    "Štiripolni asinhronski elektromotor z močjo $P_m$ in vrtilno frekvenco $n_m$ poganja preko\n",
    "reduktorja in jermenskega gonila s prestavo $i_j =1,5$ delovni stroj. Gred delovnega stroja se vrti\n",
    "z vrtilno frekvenco $n_d$, gred agregata pa z vrtilno frekvenco $n_a$. 75% razpoložljive moči na\n",
    "gredi 2 se porabi za pogon zobnika 4 in naprej za pogon delovnega stroja, preostanek pa za\n",
    "pogon agregata in pokrivanje izgub na gredi 2.\n",
    "\n",
    "Konstruirajte in vrednotite zobniško gonilo, ki bo zadostilo podanim zahtevam. Dejanske\n",
    "vrtilne frekvence gredi agregata in delovnega stroja lahko odstopajo od podanih do 5%.\n",
    "Zobniki prve stopnje imajo modul $m_1$, zobniki druge pa modul $m_3$. Širina zobnikov naj bo\n",
    "cca. 10 do 15 modulov. Jermensko gonilo obremenjuje gred 3 s silo $F_j$.\n",
    "\n",
    "\n",
    "Pri vrednotenju upoštevajte sledeče izgube: jermensko gonilo $η_j = 0,96$, tesnilo $η_t = 0,98$,\n",
    "zobniška dvojica $η_z = 0,985$, ležaj $η_l= 0,995$.\n",
    "\n",
    "Zobnik 1 naj bo nameščen nad zobnikom 2 in ne v isti ravnini kot je shematsko prikazano na\n",
    "skici.\n",
    "\n",
    "<img src=\"Slike\\Shema.png\" width=\"600\">\n",
    "\n",
    "\n",
    "<center> Slika 1: Shema zobniškega gonila </center>\n",
    "\n",
    "<img src=\"Slike\\Podatki.png\" width=\"600\">"
   ]
  },
  {
   "cell_type": "code",
   "execution_count": 1,
   "metadata": {},
   "outputs": [],
   "source": [
    "### Moduli ###\n",
    "import numpy as np\n",
    "import sympy as sym\n",
    "sym.init_printing()\n",
    "import matplotlib as mpl\n",
    "import matplotlib.pyplot as plt\n",
    "\n",
    "## Vstopni podatki - skupni ##\n",
    "i_j = 1.5\n",
    "ni_j = 0.96\n",
    "ni_t = 0.98\n",
    "ni_z = 0.985\n",
    "ni_l = 0.995\n",
    "\n",
    "## Vstopni podatki (Grupa 0) ##\n",
    "P_m = 3 #kW\n",
    "n_m = 1420 #min-1\n",
    "n_d = 110 #min-1\n",
    "n_a = 430 #min-1\n",
    "m_1 = 2 #mm\n",
    "m_3 = 3 #mm\n",
    "F_j = 1.5 #kN"
   ]
  },
  {
   "cell_type": "markdown",
   "metadata": {},
   "source": [
    "# Prva faza #\n",
    "- Zasnova gonila \n",
    "- določitev obremenitev gonil "
   ]
  },
  {
   "cell_type": "markdown",
   "metadata": {},
   "source": [
    "## Osnovni parametri gonila ##\n",
    "Določite prestavna razmerja, dejanske vrtilne frekvence gredi, vrtilne momente na\n",
    "posameznih gredeh in dejanski moči na agregatu in delovnem stroju."
   ]
  },
  {
   "cell_type": "markdown",
   "metadata": {},
   "source": [
    "### Določite prestavna razmerja ###"
   ]
  },
  {
   "cell_type": "code",
   "execution_count": 2,
   "metadata": {},
   "outputs": [
    {
     "name": "stdout",
     "output_type": "stream",
     "text": [
      "Prestavno razmerje celotne zveze: i=12.909, jermena: i_j=1.5, zobnikov: i_12=3.30233 ; i_34=2.606 \n"
     ]
    }
   ],
   "source": [
    "i = n_m/n_d         #Prestava motorja in delovnega stroja\n",
    "i_12 = n_m/n_a      #Prestava zobnika 1,2\n",
    "i_34 = i/(i_j*i_12) #Prestava zobnikov 3,4\n",
    "\n",
    "print(f'Prestavno razmerje celotne zveze: i={round(i, 3)}, jermena: i_j={i_j}, zobnikov: i_12={round(i_12, 5)} ; i_34={round(i_34, 3)} ')"
   ]
  },
  {
   "cell_type": "markdown",
   "metadata": {},
   "source": [
    "### dejanske vrtilne frekvence gredi ###"
   ]
  },
  {
   "cell_type": "code",
   "execution_count": 3,
   "metadata": {},
   "outputs": [
    {
     "name": "stdout",
     "output_type": "stream",
     "text": [
      "Gred 1: 1420/min; Gred 2: 430.0/min; Gred 3: 165.0/min ===> Vidimo, da gre za reduktor\n"
     ]
    }
   ],
   "source": [
    "#Poznamo vrtilne frekvence gredi motorja, agregata, delovnega stroja.\n",
    "n_1 = n_m\n",
    "n_2 = n_1/i_12\n",
    "n_3 = n_2/i_34\n",
    "print(f'Gred 1: {n_1}/min; Gred 2: {n_2}/min; Gred 3: {n_3}/min ===> Vidimo, da gre za reduktor')"
   ]
  },
  {
   "cell_type": "markdown",
   "metadata": {},
   "source": [
    "### Vrtilni momenti na posameznih gredeh ###"
   ]
  },
  {
   "cell_type": "code",
   "execution_count": 4,
   "metadata": {},
   "outputs": [
    {
     "name": "stdout",
     "output_type": "stream",
     "text": [
      "Iz motorja se moment 20.17 Nm prenese na gred 1 in zobnik 1 (19.57 Nm).Nato se prenese na zobnik 2 prenese na gred 2 (63.67 Nm) in na gred 2 (61.77 Nm).\n",
      "Od gredi 2 se moment razdeli. 25% gre v agregat in za pokrivanje izgub (15.44 Nm), 75% (kar je na zobniku 2) pa na zobnik 3 preko njega pa na zobnik 4 (118.93 Nm).\n",
      "Na koncu se preko gredi 3 in jermena prenese v delovni stroj (171.26 Nm).\n"
     ]
    }
   ],
   "source": [
    "w_m = 2*np.pi*(n_m/60)                   #pretvorba vrt. frek. v kontno hitrost (na sek.)\n",
    "\n",
    "M_tm = (P_m*1000)/w_m                         # Moment motorja [Nm]\n",
    "M_t1 = M_tm*ni_l**2*ni_t                      # na gred 1; na zobnik 1\n",
    "M_tz2 = M_t1*i_12*ni_z                        # Na zobnik 2\n",
    "M_t2 = M_t1*i_12*ni_z*ni_l**2*ni_t            # Na zobnik 2; na gred 2\n",
    "M_t3 = 0.75*M_tz2*i_34*ni_z*ni_l**2*ni_t      # Zobnik 4; gred 3\n",
    "M_ta = 0.25*M_tz2*ni_l**2*ni_t                # Iz gredi 2 v agregat; upošteva izgube gredi 2\n",
    "M_td = M_t3*i_j*ni_j                          # Preko jermena na delovni stroj\n",
    "\n",
    "print(f'Iz motorja se moment {round(M_tm,2)} Nm prenese na gred 1 in zobnik 1 ({round(M_t1,2)} Nm).\\\n",
    "Nato se prenese na zobnik 2 prenese na gred 2 ({round(M_tz2,2)} Nm) in na gred 2 ({round(M_t2,2)} Nm).')\n",
    "print(f'Od gredi 2 se moment razdeli. 25% gre v agregat in za pokrivanje izgub ({round(M_ta,2)} Nm), 75% (kar je na zobniku 2) pa na zobnik 3 preko njega pa na zobnik 4 ({round(M_t3,2)} Nm).')\n",
    "print(f'Na koncu se preko gredi 3 in jermena prenese v delovni stroj ({round(M_td,2)} Nm).')"
   ]
  },
  {
   "cell_type": "markdown",
   "metadata": {},
   "source": [
    "### Dejanski moči na agregatu in delovnem stroju ###"
   ]
  },
  {
   "cell_type": "code",
   "execution_count": 5,
   "metadata": {},
   "outputs": [
    {
     "name": "stdout",
     "output_type": "stream",
     "text": [
      "Moč agregata je 695.41 W, moč delovnega stroja pa 1972.74 W\n"
     ]
    }
   ],
   "source": [
    "w_m = 2*np.pi*(n_m/60)\n",
    "w_a = 2*np.pi*(n_a/60)\n",
    "w_d = 2*np.pi*(n_d/60)\n",
    " \n",
    "P_a = M_ta*w_a\n",
    "P_d = M_td*w_d\n",
    "\n",
    "print(f'Moč agregata je {round(P_a,2)} W, moč delovnega stroja pa {round(P_d,2)} W')"
   ]
  },
  {
   "cell_type": "markdown",
   "metadata": {},
   "source": [
    "## Ocena premerov gredi ##\n",
    "Na podlagi znanih torzijskih momentov preliminarno določite premere gredi.\n",
    "<img src=\"Slike/Smith.png\" width=\"350\">"
   ]
  },
  {
   "cell_type": "code",
   "execution_count": null,
   "metadata": {},
   "outputs": [
    {
     "name": "stdout",
     "output_type": "stream",
     "text": [
      "Točne vrednosti:       Gred 1: 18.59680399600943mm; Gred 2: 27.278119814053525mm; Gred 3: 33.93452446699023mm\n",
      "Zaokrožene vrednosti:  Gred 1: 19.0mm;              Gred 2: 28.0mm;               Gred 3: 34.0mm\n"
     ]
    }
   ],
   "source": [
    "# Upoštevamo dopustni torzijsko napetost za material S235\n",
    "tau_tdop = 155/10 #N/mm**2\n",
    "d1 = ((16*M_t1*1000)/(np.pi*tau_tdop))**(1/3)\n",
    "d2 = ((16*M_t2*1000)/(np.pi*tau_tdop))**(1/3)\n",
    "d3 = ((16*M_t3*1000)/(np.pi*tau_tdop))**(1/3)\n",
    "print(f'Točne vrednosti:       Gred 1: {d1}mm; Gred 2: {d2}mm; Gred 3: {d3}mm')\n",
    "d1 = np.ceil(d1) #zaokrožimo navzgor\n",
    "d2 = np.ceil(d2)\n",
    "d3 = np.ceil(d3)\n",
    "print(f'Zaokrožene vrednosti:  Gred 1: {d1}mm;              Gred 2: {d2}mm;               Gred 3: {d3}mm')\n",
    "\n",
    "M_t3"
   ]
  },
  {
   "cell_type": "markdown",
   "metadata": {},
   "source": [
    "## Dimenzije zobnikov in medosni razmiki ##\n",
    "Določite dimenzije vseh zobnikov in medosne razmike."
   ]
  },
  {
   "cell_type": "markdown",
   "metadata": {},
   "source": [
    "### Število zob zobnikov ###\n",
    "<img src=\"Slike/Tabela_zob.png\" width=\"550\">\n",
    "\n",
    "Ob gledanju (b) tabele in dejstvu, da imamo podane prestave $i_{12}$ in $i_{34}$ lahko določimo število zob. Odločimo se za nitrirane."
   ]
  },
  {
   "cell_type": "code",
   "execution_count": null,
   "metadata": {},
   "outputs": [],
   "source": [
    "z_1 = 17        # izberemo sami\n",
    "z_2 = z_1*i_12\n",
    "z_3 = 24        # izberemo sami\n",
    "z_4 = z_3*i_34\n",
    "print(f'Število zob (točno) na -      Zobniku 1: {z_1} ;  Zobniku 2: {z_2} ; Zobniku 3: {z_3} ;  Zobniku 4: {z_4}')\n",
    "#zaokrožimo t2 in z4 \n",
    "if z_2 > (np.ceil(z_2) + np.round(z_2)) /2 :\n",
    "    z_2 = np.ceil(z_2)\n",
    "else:\n",
    "    z_2 = np.round(z_2)\n",
    "if z_4 > (np.ceil(z_4) + np.round(z_4)) /2 :\n",
    "    z_4 = np.ceil(z_4)\n",
    "else:\n",
    "    z_4 = np.round(z_4)\n",
    "print(f'Število zob (zaokroženo) na - Zobniku 1: {z_1} ;  Zobniku 2: {z_2} ;               Zobniku 3: {z_3} ;  Zobniku 4: {z_4}')"
   ]
  },
  {
   "cell_type": "markdown",
   "metadata": {},
   "source": [
    "### Modul ###\n",
    "\n",
    "<img src=\"Slike/Dimenzije.png\" width=\"350\">"
   ]
  },
  {
   "cell_type": "code",
   "execution_count": null,
   "metadata": {},
   "outputs": [],
   "source": [
    "m_1 = 2 #mm    #Normalni modul (podan)\n",
    "m_3 = 3 #mm\n",
    "beta = 0*np.pi/180 #radiani; kot zobnikov\n",
    "m_t1 = m_1/np.cos(beta) #tangencialni modul\n",
    "m_t3 = m_3/np.cos(beta)"
   ]
  },
  {
   "cell_type": "markdown",
   "metadata": {},
   "source": [
    "### Medosna razdalja nekorigiranega zobnika ###"
   ]
  },
  {
   "cell_type": "code",
   "execution_count": null,
   "metadata": {},
   "outputs": [],
   "source": [
    "d_z_1 = m_t1*z_1       #premeri zobnikov\n",
    "d_z_2 = m_t1*z_2\n",
    "d_z_3 = m_t3*z_3       #premeri zobnikov\n",
    "d_z_4 = m_t3*z_4\n",
    "a_d1 = (d_z_1+d_z_2)/2  #nekorigirana velja vedno\n",
    "a_d2 = (d_z_3+d_z_4)/2  #nekorigirana velja vedno\n",
    "print(f'Premer prvih dveh zobnikov je {d_z_1}mm in {d_z_2}mm, ter drugih dveh {d_z_3}mm in {d_z_4}mm ')\n",
    "print(f'Medosna razdalja za prva dva zobnika je  {a_d1}mm, za druge dva pa {a_d2}mm')\n",
    "z_4"
   ]
  },
  {
   "cell_type": "markdown",
   "metadata": {},
   "source": [
    "### Širina in višina zobnika ###\n",
    "Širina naj bo 10 - 15 modulov $m_n$ - pomeni, da imamo jekleno konstrukcijo in lahko ohišje.\n",
    "Tolerančni razred ozobja je 11 do 12."
   ]
  },
  {
   "cell_type": "code",
   "execution_count": null,
   "metadata": {},
   "outputs": [],
   "source": [
    "#širina\n",
    "Psi = 10\n",
    "b_1 = Psi*m_1\n",
    "b_3 = Psi*m_3\n",
    "#višina zobovja\n",
    "h_a1 = m_1\n",
    "h_a3 = m_3\n",
    "h_f1 = 1.25*m_1\n",
    "h_f3 = 1.25*m_3\n",
    "h_1 = h_a1 + h_f1\n",
    "h_3 = h_a3 + h_f3\n",
    "print(f'z1 in z2 imata širino b1 = {b_1}mm, z3 in z4 pa b2 = {b_3}mm')\n",
    "print(f'z1 in z2 imata višino  h1 = ha + hf = {h_a1} + {h_f1} = {h_1}mm;  z3 in z4 imata višino  h3 = ha + hf = {h_a3} + {h_f3} = {h_3}mm')"
   ]
  },
  {
   "cell_type": "markdown",
   "metadata": {},
   "source": [
    "### profilni premik ###\n",
    "V našem primeru profilnega pomika nimamo."
   ]
  },
  {
   "cell_type": "code",
   "execution_count": null,
   "metadata": {},
   "outputs": [],
   "source": [
    "a1 = a_d1                #dejanska medosna razdalja je taka, če NI profilnega pomika\n",
    "a2 = a_d2\n",
    "print(f'Medosni razmik prvih dveh gredi: {a1}mm')\n",
    "print(f'Medosni razmik drugih dveh gredi: {a2}mm')"
   ]
  },
  {
   "cell_type": "markdown",
   "metadata": {},
   "source": [
    "### Premeri zobnikov ###\n",
    "Razdelilne kroge smo določili pri medosni razdalji."
   ]
  },
  {
   "cell_type": "code",
   "execution_count": null,
   "metadata": {},
   "outputs": [],
   "source": [
    "### Premer vznožnih krogov ###\n",
    "d_f1 = d_z_1 - 2.5*m_1\n",
    "d_f2 = d_z_2 - 2.5*m_1\n",
    "d_f3 = d_z_3 - 2.5*m_3  \n",
    "d_f4 = d_z_4 - 2.5*m_3\n",
    "### Premer temenskih krogov ###\n",
    "d_a1 = d_z_1 + 2*m_1\n",
    "d_a2 = d_z_2 + 2*m_1\n",
    "d_a3 = d_z_3 + 2*m_3\n",
    "d_a4 = d_z_4 + 2*m_3\n",
    "### Premer osnovnih krogov (za nekorigirane zobnike tudi kinematski krogi) ###\n",
    "d_b1 = d_z_1\n",
    "d_b2 = d_z_2\n",
    "d_b3 = d_z_3\n",
    "d_b4 = d_z_4\n",
    "\n",
    "print(f'zobnik         d_f[mm]          d_a[mm]       d_b[mm]')\n",
    "print(f'  1             {d_f1}             {d_a1}          {d_b1}')\n",
    "print(f'  2             {d_f2}            {d_a2}         {d_b2}')\n",
    "print(f'  3             {d_f3}             {d_a3}          {d_b3}')\n",
    "print(f'  4             {d_f4}            {d_a4}         {d_b4}')"
   ]
  },
  {
   "cell_type": "markdown",
   "metadata": {},
   "source": [
    "### Konstrukcijska izvedba pastorka  ###\n",
    "<img src=\"Slike/Pastorek.png\" width=\"450\">\n",
    "\n",
    "Gledamo za manjši zobnik v zobniški dvojici."
   ]
  },
  {
   "cell_type": "code",
   "execution_count": null,
   "metadata": {},
   "outputs": [],
   "source": [
    "# Določimo velikosti gredi pod zobniki in primerjamo z zgoraj izračunanimi premeri\n",
    "print(f'Minimalni premer gredi 1, 2, 3 je {[d1,d2,d3]} mm')\n",
    "Gredi = [24, 35, 45]\n",
    "# skupaj z gredjo (a)\n",
    "d_p11 = 1.2*np.array(Gredi)\n",
    "d_p12 = 1.4*np.array(Gredi)\n",
    "print(f'Za (a) primer je NAJMANJŠI dovoljeni premer osnovnega kroga od gredi 1 do 3: d_b = {d_p11}... {d_p12} mm')\n",
    "# gredna vez (b)\n",
    "d_p11 = 2*np.array(Gredi)\n",
    "d_p12 = 2.5*np.array(Gredi)\n",
    "print(f'Za (b) primer je NAJMANJŠI dovoljeni premer osnovnega kroga od gredi 1 do 3: d_b = {d_p11}... {d_p12} mm')\n",
    "print(f'Pri danih pogojih so na mestu zobnikov gredi (1-3) premera: {Gredi} mm')\n"
   ]
  },
  {
   "cell_type": "markdown",
   "metadata": {},
   "source": [
    "## ležaji ##\n",
    "Glede na dimenzije gredi izberite kotalne ležaje in jih vgradite na gredi in v ohišje. Določimo tudi tesnila."
   ]
  },
  {
   "cell_type": "markdown",
   "metadata": {},
   "source": [
    "**Gred 1:**\n",
    "- [Ležaja - 6004](https://www.skf.com/group/products/bearings-units-housings/ball-bearings/deep-groove-ball-bearings/deep-groove-ball-bearings/index.html?designation=6004)\n",
    "\n",
    "- [Tesnilo - 20X32X7](https://www.skf.com/ph/products/seals/industrial-seals/power-transmission-seals/radial-shaft-seals/radial-shaft-seals-pt/index.html?designation=20X32X7%20HMSA10%20RG&unit=metricUnit)\n",
    "\n",
    "**Gred 2:**\n",
    "- [Ležaja - 6006](https://www.skf.com/ph/products/bearings-units-housings/ball-bearings/deep-groove-ball-bearings/deep-groove-ball-bearings/index.html?designation=6006)\n",
    "\n",
    "- [Tesnilo - 30X44X7](https://www.skf.com/ph/products/seals/industrial-seals/power-transmission-seals/radial-shaft-seals/radial-shaft-seals-pt/index.html?designation=30X44X7%20HMSA10%20RG&unit=metricUnit)\n",
    "\n",
    "**Gred 3:**\n",
    "- [Ležaja - 6008](https://www.skf.com/ph/products/bearings-units-housings/ball-bearings/deep-groove-ball-bearings/deep-groove-ball-bearings/index.html?designation=6008)\n",
    "\n",
    "- [Tesnilo - 40X52X7](https://www.skf.com/ph/products/seals/industrial-seals/power-transmission-seals/radial-shaft-seals/radial-shaft-seals-pt/index.html?designation=40X52X7%20HMSA10%20RG&unit=metricUnit)"
   ]
  },
  {
   "cell_type": "markdown",
   "metadata": {},
   "source": [
    "## Obremenitve gredi in ležajev ##\n",
    "### Sile na zobnikih ###\n",
    "<img src=\"Slike/Sile_zobnikov.png\" width=\"350\">\n",
    "Če ne upoštevamo izgub je na gonjenem zobniku nasprotno enaka sila kot na gonilnem zobniku.\n",
    "<img src=\"Slike/Zobniki_sile.jpg\" width=\"550\">\n"
   ]
  },
  {
   "cell_type": "code",
   "execution_count": 14,
   "metadata": {},
   "outputs": [],
   "source": [
    "# Torzijski momenti:\n",
    "M_t1 = M_tm*ni_l**2*ni_t                      # na gred 1; na zobnik 1\n",
    "M_tz2 = M_t1*i_12*ni_z                        # Na zobniku 2\n",
    "M_tz3 = 0.75*M_tz2                            # Zobnik 3\n",
    "M_ta = 0.25*M_tz2*ni_l**2*ni_t                # Iz gredi 2 v agregat; upošteva izgube gredi 2\n",
    "neki=M_tz2-M_tz3-M_ta"
   ]
  },
  {
   "cell_type": "markdown",
   "metadata": {},
   "source": [
    "### Med zobnikom 1 in 2 ###"
   ]
  },
  {
   "cell_type": "code",
   "execution_count": 15,
   "metadata": {},
   "outputs": [],
   "source": [
    "#obodna sila:\n",
    "F_t1 = 2*M_t1/d_b1*1000   # N\n",
    "F_t2 = F_t1\n",
    "#Radialna sila:\n",
    "F_r1 = F_t1*np.tan(20*np.pi/180)\n",
    "F_r2 = F_r1\n",
    "#Aksialna sila:\n",
    "F_a1 = F_t1*np.tan(beta)\n",
    "F_a2 = F_a1"
   ]
  },
  {
   "cell_type": "markdown",
   "metadata": {},
   "source": [
    "### Med zobnikom 3 in 4 ###"
   ]
  },
  {
   "cell_type": "code",
   "execution_count": 16,
   "metadata": {},
   "outputs": [],
   "source": [
    "F_t3 = 2*M_tz3/d_b3*1000   # N\n",
    "F_t4 = F_t3\n",
    "#Radialna sila:\n",
    "F_r3 = F_t3*np.tan(20*np.pi/180)\n",
    "F_r4 = F_r3\n",
    "#Aksialna sila:\n",
    "F_a3 = F_t3*np.tan(beta)\n",
    "F_a4 = F_a3"
   ]
  },
  {
   "cell_type": "code",
   "execution_count": 17,
   "metadata": {},
   "outputs": [
    {
     "name": "stdout",
     "output_type": "stream",
     "text": [
      "Tangencialna sila je F_t12 = 1151.403666739655 N in F_t34 = 1326.4516108221337 N\n",
      "Radialna sila je F_r12 = 419.07666231819655 N in F_r34 = 482.7889035337135 N\n",
      "Aksialna sila je F_a12 = 0.0 N in F_a34 = 0.0 N\n"
     ]
    }
   ],
   "source": [
    "print(f'Tangencialna sila je F_t12 = {F_t2} N in F_t34 = {F_t3} N')\n",
    "print(f'Radialna sila je F_r12 = {F_r2} N in F_r34 = {F_r3} N')\n",
    "print(f'Aksialna sila je F_a12 = {F_a2} N in F_a34 = {F_a3} N')"
   ]
  },
  {
   "cell_type": "code",
   "execution_count": 18,
   "metadata": {},
   "outputs": [],
   "source": [
    "### Razdalje na gredi ###\n",
    "a = 30.5#mm\n",
    "b = 35#mm\n",
    "c = 35.5#mm\n",
    "d = 76.5#mm"
   ]
  },
  {
   "cell_type": "markdown",
   "metadata": {},
   "source": [
    "### Obremenitev gredi in ležajev (gred 2) ###"
   ]
  },
  {
   "cell_type": "code",
   "execution_count": 19,
   "metadata": {},
   "outputs": [
    {
     "name": "stdout",
     "output_type": "stream",
     "text": [
      "Radialna sila ležaja C = 657.3744121442098 N in ležaja D = 734.4863841408711 N\n"
     ]
    }
   ],
   "source": [
    "### Reakcije sil v podpori ###\n",
    "D_y = (F_r3*(a+b)-F_t2*a) / (a+b+c) #y smer\n",
    "C_y = F_r3-F_t2-D_y\n",
    "D_z = (F_r2*a-F_t3*(a+b)) / (a+b+c)\n",
    "C_z = F_r2-F_t3-D_z\n",
    "C =  (C_y**2+C_z**2)**(1/2)\n",
    "D =  (D_y**2+D_z**2)**(1/2)\n",
    "print(f'Radialna sila ležaja C = {C} N in ležaja D = {D} N')"
   ]
  },
  {
   "cell_type": "code",
   "execution_count": 20,
   "metadata": {},
   "outputs": [
    {
     "name": "stdout",
     "output_type": "stream",
     "text": [
      "[-634.00943     517.39423674   34.60533321    0.        ]\n",
      "[    -0.         -19337.28761491  -1228.48932892      0.        ]\n",
      "[-1.93372876e+04 -1.22848933e+03 -7.27595761e-12  0.00000000e+00]\n"
     ]
    }
   ],
   "source": [
    "### Notranje sile ###\n",
    "## x-y ##\n",
    "T_y_skup = np.array([]) #Prazny array-i za shranjevanje\n",
    "M_z_skup0 = np.array([])\n",
    "M_z_skup1 = np.array([])\n",
    "#I. polje\n",
    "T_y = C_y\n",
    "M_z0 = C_y*0\n",
    "M_z1 = C_y*a\n",
    "T_y_skup = np.append(T_y_skup, [T_y])\n",
    "M_z_skup0 = np.append(M_z_skup0, [M_z0])\n",
    "M_z_skup1 = np.append(M_z_skup1, [M_z1])\n",
    "#II. polje\n",
    "T_y = C_y+F_t2\n",
    "M_z0 = C_y*(a+0)+F_t2*(0)\n",
    "M_z1 = C_y*(a+b)+F_t2*(b)\n",
    "T_y_skup = np.append(T_y_skup, [T_y])\n",
    "M_z_skup0 = np.append(M_z_skup0, [M_z0])\n",
    "M_z_skup1 = np.append(M_z_skup1, [M_z1])\n",
    "#III. polje\n",
    "T_y = C_y+F_t2-F_r3\n",
    "M_z0 = C_y*(a+b+0)+F_t2*(b+0)-F_r3*0\n",
    "M_z1 = C_y*(a+b+c)+F_t2*(b+c)-F_r3*c\n",
    "T_y_skup = np.append(T_y_skup, [T_y])\n",
    "M_z_skup0 = np.append(M_z_skup0, [M_z0])\n",
    "M_z_skup1 = np.append(M_z_skup1, [M_z1])\n",
    "#IV. polje\n",
    "T_y = 0\n",
    "M_z0 = 0\n",
    "M_z1 = 0\n",
    "T_y_skup = np.append(T_y_skup, [T_y])\n",
    "M_z_skup0 = np.append(M_z_skup0, [M_z0])\n",
    "M_z_skup1 = np.append(M_z_skup1, [M_z1])\n",
    "\n",
    "### NTM x-y###\n",
    "print(T_y_skup) #konstantne vrednosti Ty od 0 do a+b+c\n",
    "print(M_z_skup0) #začetne/končne vrednosti Mz 0 do a+b+c\n",
    "print(M_z_skup1)"
   ]
  },
  {
   "cell_type": "code",
   "execution_count": 21,
   "metadata": {},
   "outputs": [
    {
     "name": "stdout",
     "output_type": "stream",
     "text": [
      "[-173.70423258 -592.7808949   733.67071592    0.        ]\n",
      "[    -0.          -5297.97909374 -26045.31041524      0.        ]\n",
      "[-5.29797909e+03 -2.60453104e+04 -7.27595761e-12  0.00000000e+00]\n"
     ]
    }
   ],
   "source": [
    "### Notranje sile ###\n",
    "## x-z ##\n",
    "T_z_skup = np.array([]) #Prazny array-i za shranjevanje\n",
    "M_y_skup0 = np.array([])\n",
    "M_y_skup1 = np.array([])\n",
    "#I. polje\n",
    "T_z = C_z\n",
    "M_y0 = C_z*0\n",
    "M_y1 = C_z*a\n",
    "T_z_skup = np.append(T_z_skup, [T_z])\n",
    "M_y_skup0 = np.append(M_y_skup0, [M_y0])\n",
    "M_y_skup1 = np.append(M_y_skup1, [M_y1])\n",
    "#II. polje\n",
    "T_z = C_z-F_r2\n",
    "M_y0 = C_z*(a+0)-F_r2*(0)\n",
    "M_y1 = C_z*(a+b)-F_r2*(b)\n",
    "T_z_skup = np.append(T_z_skup, [T_z])\n",
    "M_y_skup0 = np.append(M_y_skup0, [M_y0])\n",
    "M_y_skup1 = np.append(M_y_skup1, [M_y1])\n",
    "#III. polje\n",
    "T_z = C_z-F_r2+F_t3\n",
    "M_y0 = C_z*(a+b+0)-F_r2*(b+0)+F_t3*0\n",
    "M_y1 = C_z*(a+b+c)-F_r2*(b+c)+F_t3*c\n",
    "T_z_skup = np.append(T_z_skup, [T_z])\n",
    "M_y_skup0 = np.append(M_y_skup0, [M_y0])\n",
    "M_y_skup1 = np.append(M_y_skup1, [M_y1])\n",
    "#IV. polje\n",
    "T_z = 0\n",
    "M_y0 = 0\n",
    "M_y1 = 0\n",
    "T_z_skup = np.append(T_z_skup, [T_z])\n",
    "M_y_skup0 = np.append(M_y_skup0, [M_y0])\n",
    "M_y_skup1 = np.append(M_y_skup1, [M_y1])\n",
    "\n",
    "### NTM x-y###\n",
    "print(T_z_skup) #konstantne vrednosti Ty od 0 do a+b+c\n",
    "print(M_y_skup0) #začetne/končne vrednosti Mz 0 do a+b+c\n",
    "print(M_y_skup1)"
   ]
  },
  {
   "cell_type": "code",
   "execution_count": 22,
   "metadata": {},
   "outputs": [
    {
     "name": "stdout",
     "output_type": "stream",
     "text": [
      "V kritičnem prerezu je moment od drugim zobnikom M_f2 = 20049.9195703984 Nmm in moment pod tretjim M_f3 = 26074.266637000932\n"
     ]
    }
   ],
   "source": [
    "M_f2 = (M_z_skup0[1]**2 + M_y_skup0[1]**2)**(1/2)\n",
    "M_f3 = (M_z_skup0[2]**2 + M_y_skup0[2]**2)**(1/2)\n",
    "\n",
    "print(f'V kritičnem prerezu je moment od drugim zobnikom M_f2 = {M_f2} Nmm in moment pod tretjim M_f3 = {M_f3}')"
   ]
  },
  {
   "cell_type": "markdown",
   "metadata": {},
   "source": [
    "# Druga faza #\n",
    "- Vrednotenje elementov gonila \n",
    "- izdelava tehnične dokumentacije \n",
    "\n",
    "## Izračunajte dobo trajanja ležajev  ##\n",
    "Izračunajte dobo trajanja ležajev na gredi 2 (drugi par ležajev). Doba trajanja ležajev naj bo vsaj 15 000 obratovalnih ur.\n",
    "### Vrednotenje na statično nosilnost ###"
   ]
  },
  {
   "cell_type": "code",
   "execution_count": 23,
   "metadata": {},
   "outputs": [
    {
     "name": "stdout",
     "output_type": "stream",
     "text": [
      "s_0C = 12.625985810623868 za ležaj C in s_0D = 11.300413702983088 za ležaj D morata biti več kot s_0_min = 1\n"
     ]
    }
   ],
   "source": [
    "## Statična nosilnost ležaja ##\n",
    "C_0 = 8.3*1000 #N; za SKF ležaj 6004\n",
    "s_0min = 1 \n",
    "## statična ekvivalentna obremenitev ležaja (X_0 = 1; Y_0 = 0 - samo radialne obremenitve) ##\n",
    "P_0C = C\n",
    "P_0D = D\n",
    "s_0C = C_0/P_0C\n",
    "s_0D = C_0/P_0D\n",
    "print(f's_0C = {s_0C} za ležaj C in s_0D = {s_0D} za ležaj D morata biti več kot s_0_min = {s_0min}')"
   ]
  },
  {
   "cell_type": "markdown",
   "metadata": {},
   "source": [
    "### Vrednotenje na dinamično nosilnost ###"
   ]
  },
  {
   "cell_type": "code",
   "execution_count": 24,
   "metadata": {},
   "outputs": [
    {
     "name": "stdout",
     "output_type": "stream",
     "text": [
      "Ležaj C zdrži L_10h_C = 358574.3062808522, ležaj D zdrži L_10h_D = 257078.82449048953\n",
      "Zdržati morata vsaj 15,000 h\n"
     ]
    },
    {
     "data": {
      "image/png": "[encoded data removed]",
      "text/latex": [
       "$$6632633671.8546295$$"
      ],
      "text/plain": [
       "6632633671.8546295"
      ]
     },
     "execution_count": 24,
     "metadata": {},
     "output_type": "execute_result"
    }
   ],
   "source": [
    "### Imenska doba trajanja ###\n",
    "C_din = 13.8*1000 #N; za SKF ležaj 6004\n",
    "p = 3 #za kroglične\n",
    "## dinamična ekvivalentna obremenitev ležaja (X = 1; Y = 0 - samo radialne obremenitve) ##\n",
    "P_C = C\n",
    "P_D = D\n",
    "## imenska doba trajanja ležaja  L_10##\n",
    "L_10_C = (C_din/P_C)**p*10**6\n",
    "L_10_D = (C_din/P_D)**p*10**6\n",
    "# l_10 v urah #\n",
    "n = n_2 #vrtilna hitrost gredi 2 (v min)\n",
    "L_10h_C = L_10_C/(60*n)\n",
    "L_10h_D = L_10_D/(60*n)\n",
    "\n",
    "print(f'Ležaj C zdrži L_10h_C = {L_10h_C}, ležaj D zdrži L_10h_D = {L_10h_D}')\n",
    "print(f'Zdržati morata vsaj 15,000 h')\n",
    "L_10_D"
   ]
  },
  {
   "cell_type": "code",
   "execution_count": 25,
   "metadata": {},
   "outputs": [
    {
     "name": "stdout",
     "output_type": "stream",
     "text": [
      "C ležaj : a_iso = f(0.29701490717160367,0.722)\n",
      "D ležaj : a_iso = f(0.2658320211454757,0.722)\n"
     ]
    }
   ],
   "source": [
    "### Razširjen izračun dobe trajanja ###\n",
    "C_u = 0.355*1000 #N; za SKF ležaj 6004\n",
    "#koeficient trajanja ležaja poškodbe a_1\n",
    "a_1 = 0.37 \n",
    "#koeficient materiala in obretovalnih pogojev a_iso\n",
    "a_iso_xc = 0.55*C_u/P_C #za ležaj C in D\n",
    "a_iso_xd = 0.55*C_u/P_D\n",
    "a_iso_y = 36.1/50 # iz tabel\n",
    "print(f'C ležaj : a_iso = f({a_iso_xc},{a_iso_y})')\n",
    "print(f'D ležaj : a_iso = f({a_iso_xd},{a_iso_y})')"
   ]
  },
  {
   "cell_type": "code",
   "execution_count": 26,
   "metadata": {},
   "outputs": [
    {
     "name": "stdout",
     "output_type": "stream",
     "text": [
      "Ležaj C zdrži L_na_h_C = 729698.7132815341, ležaj D zdrži L_na_h_D = 389988.57675207255\n",
      "Zdržati morata vsaj 15,000 h\n"
     ]
    }
   ],
   "source": [
    "a_iso_C = 5.5 # iz končne tabele\n",
    "a_iso_D = 4.1\n",
    "L_na_C = a_1*a_iso_C*L_10_C\n",
    "L_na_D = a_1*a_iso_D*L_10_D\n",
    "# L_10 v urah #\n",
    "n = n_2 #vrtilna hitrost gredi 2 (v min)\n",
    "L_nah_C = L_na_C/(60*n)\n",
    "L_nah_D = L_na_D/(60*n)\n",
    "print(f'Ležaj C zdrži L_na_h_C = {L_nah_C}, ležaj D zdrži L_na_h_D = {L_nah_D}')\n",
    "print(f'Zdržati morata vsaj 15,000 h')"
   ]
  },
  {
   "cell_type": "markdown",
   "metadata": {},
   "source": [
    "## Kontrola gredi ##\n",
    "Kontrolirajte gred 2 v najbolj obremenjenem kritičnem prerezu\n",
    "### Kontrola napetosti v kritičnih prerezih ###"
   ]
  },
  {
   "cell_type": "code",
   "execution_count": 27,
   "metadata": {},
   "outputs": [
    {
     "name": "stdout",
     "output_type": "stream",
     "text": [
      "Preverimo ali je sig_p = 15.096008758412022 < sig_dop = 78.26 \n"
     ]
    }
   ],
   "source": [
    "### Upogibna/torzijska napetost ###\n",
    "M_f = M_f3 #Nmm\n",
    "M_t =( M_tz2 - M_tz3 )*1000 #Nmm; razklika momenta zobnika 3 in vhodnega momenta\n",
    "d_krit = 35 #mm; krtični prerez\n",
    "#koeficient zareznega učinka\n",
    "beta_kf = 2.35\n",
    "beta_kt = 1.81\n",
    "sig_f_max = beta_kf * 32*M_f/ (np.pi*d_krit**3)\n",
    "tau_t_max = beta_kt * 16*M_t / (np.pi*d_krit**3)\n",
    "### Primerjalna napetost ###\n",
    "alfa_0 = 175 / (1.73*150)\n",
    "sig_p = (sig_f_max**2 + 3*(alfa_0*tau_t_max)**2)**(1/2)\n",
    "### Dopustna napetost ###\n",
    "b_1 = 0.86\n",
    "b_2 = 0.91\n",
    "s_D = 1.75\n",
    "sig_dop = 175*b_1*b_2 / s_D\n",
    "print(f'Preverimo ali je sig_p = {sig_p} < sig_dop = {sig_dop} ')"
   ]
  },
  {
   "cell_type": "markdown",
   "metadata": {},
   "source": [
    "## Kontrola povesa ##\n",
    "Kontroliraje poves gredi 3 pod jermenico, nagib jermenice in zasuk v ležaju E.\n",
    "### Statika gredi 3 ###"
   ]
  },
  {
   "cell_type": "code",
   "execution_count": 28,
   "metadata": {},
   "outputs": [],
   "source": [
    "# Določimo povprečni vztrajnostni moment gredi\n",
    "d_i = np.array([34, 40, 50, 45, 42, 40]) \n",
    "l_i = np.array([44.5, 31.6, 43, 29.5, 14, 8])\n",
    "I_i = np.array([np.pi*i**4/64 for i in d_i])\n",
    "I_i_l = np.array([I_i[i]*l_i[i] for i in range(6)])\n",
    "I_p = np.sum(I_i_l)/np.sum(l_i)\n",
    "E = 2.1*10**6\n",
    "# Sila jermenice\n",
    "F_j=F_j*1000 #N\n",
    "# Razdalje\n",
    "e = 67.5\n",
    "f = 66.5\n",
    "g = 36.5"
   ]
  },
  {
   "cell_type": "code",
   "execution_count": 29,
   "metadata": {},
   "outputs": [],
   "source": [
    "### Povesi ravnin ### F_t4 F_r4 F_j\n",
    "## x-y ravnina ##\n",
    "# poves zaradi F_r4\n",
    "tan_fi_Fr4 = F_r4*f*g*(f+2*g) / (6*E*I_p*(f+g))\n",
    "u_Fr4 = e*tan_fi_Fr4\n",
    "# poves zaradi F_j\n",
    "tan_fi_Fj = F_j*e*(3*e+2*f+2*g) / (6*E*I_p)\n",
    "tan_fi_E = F_j*e*(f+g) / (3*E*I_p)\n",
    "u_Fj = F_j*e**2*(e+f+g) / (3*E*I_p)\n",
    "# Superpozicija\n",
    "tan_fi_yj = tan_fi_Fj - tan_fi_Fr4 #pod jermenico\n",
    "tan_fi_yE = tan_fi_E - tan_fi_Fr4 #pod ležajem\n",
    "u_y = u_Fj - u_Fr4\n",
    "## x-z ravnina ##\n",
    "tan_fi_z = F_t4*f*g*(f+2*g) / (6*E*I_p*(f+g))\n",
    "u_z = e*tan_fi_z\n",
    "### skupne deformacije ###\n",
    "tan_fi_j=(tan_fi_yj**2+tan_fi_z**2)**(1/2)\n",
    "u_j = (u_y**2+u_z**2)**(1/2)\n",
    "tan_fi_E=(tan_fi_yE**2+tan_fi_z**2)**(1/2)"
   ]
  },
  {
   "cell_type": "code",
   "execution_count": 30,
   "metadata": {},
   "outputs": [
    {
     "data": {
      "image/png": "[encoded data removed]",
      "text/latex": [
       "$$9.172644248209525e-06$$"
      ],
      "text/plain": [
       "9.172644248209525e-06"
      ]
     },
     "execution_count": 30,
     "metadata": {},
     "output_type": "execute_result"
    }
   ],
   "source": [
    "tan_fi_E"
   ]
  },
  {
   "cell_type": "code",
   "execution_count": 31,
   "metadata": {},
   "outputs": [
    {
     "data": {
      "image/png": "[encoded data removed]",
      "text/latex": [
       "$$0.0010322302995923$$"
      ],
      "text/plain": [
       "0.0010322302995923"
      ]
     },
     "execution_count": 31,
     "metadata": {},
     "output_type": "execute_result"
    }
   ],
   "source": [
    "u_y"
   ]
  },
  {
   "cell_type": "code",
   "execution_count": 32,
   "metadata": {},
   "outputs": [
    {
     "data": {
      "image/png": "[encoded data removed]",
      "text/latex": [
       "$$1326.4516108221337$$"
      ],
      "text/plain": [
       "1326.4516108221337"
      ]
     },
     "execution_count": 32,
     "metadata": {},
     "output_type": "execute_result"
    }
   ],
   "source": [
    "F_t4"
   ]
  },
  {
   "cell_type": "code",
   "execution_count": 33,
   "metadata": {},
   "outputs": [
    {
     "data": {
      "image/png": "[encoded data removed]",
      "text/latex": [
       "$$1151.403666739655$$"
      ],
      "text/plain": [
       "1151.403666739655"
      ]
     },
     "execution_count": 33,
     "metadata": {},
     "output_type": "execute_result"
    }
   ],
   "source": [
    "F_t2"
   ]
  },
  {
   "cell_type": "code",
   "execution_count": null,
   "metadata": {},
   "outputs": [],
   "source": []
  }
 ],
 "metadata": {
  "kernelspec": {
   "display_name": "Python 3",
   "language": "python",
   "name": "python3"
  },
  "language_info": {
   "codemirror_mode": {
    "name": "ipython",
    "version": 3
   },
   "file_extension": ".py",
   "mimetype": "text/x-python",
   "name": "python",
   "nbconvert_exporter": "python",
   "pygments_lexer": "ipython3",
   "version": "3.7.7"
  },
  "toc": {
   "base_numbering": "1",
   "nav_menu": {
    "height": "100px",
    "width": "432px"
   },
   "number_sections": true,
   "sideBar": true,
   "skip_h1_title": false,
   "title_cell": "Kazalo",
   "title_sidebar": "Vsebina",
   "toc_cell": true,
   "toc_position": {
    "height": "calc(100% - 180px)",
    "left": "10px",
    "top": "150px",
    "width": "302.438px"
   },
   "toc_section_display": true,
   "toc_window_display": true
  },
  "varInspector": {
   "cols": {
    "lenName": 16,
    "lenType": 16,
    "lenVar": 40
   },
   "kernels_config": {
    "python": {
     "delete_cmd_postfix": "",
     "delete_cmd_prefix": "del ",
     "library": "var_list.py",
     "varRefreshCmd": "print(var_dic_list())"
    },
    "r": {
     "delete_cmd_postfix": ") ",
     "delete_cmd_prefix": "rm(",
     "library": "var_list.r",
     "varRefreshCmd": "cat(var_dic_list()) "
    }
   },
   "types_to_exclude": [
    "module",
    "function",
    "builtin_function_or_method",
    "instance",
    "_Feature"
   ],
   "window_display": false
  }
 },
 "nbformat": 4,
 "nbformat_minor": 2
}
